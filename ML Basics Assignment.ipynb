{
 "cells": [
  {
   "cell_type": "markdown",
   "id": "33ab4ea0-3b00-4a82-b7de-0d2111f952f9",
   "metadata": {},
   "source": [
    "Q1.Explain the following with an example?\n",
    "1. Artificial Intelligence\n",
    "2. Machine Learning,\n",
    "3. Deep Learning"
   ]
  },
  {
   "cell_type": "markdown",
   "id": "ecbef9af-d5ea-4c81-a536-bd9b62ccc742",
   "metadata": {},
   "source": [
    "**AI :-** Smart Applications that can perform its own task without any human intervention\n",
    "\n",
    "E.g: - Self Driving Car, Robots.\n",
    "\n",
    "**Machine Learning: -** It provides stats tool to learn analyze, visualize and develop predictive models from the data.\n",
    "\n",
    "E.g : - Amazon, Netflix  ——  Recommendation System\n",
    "\n",
    "Classification Application\n",
    "\n",
    "Regression Application\n",
    "\n",
    "**Deep Learning : -** Mimic human brain (Multi layered neural network)\n",
    "\n",
    "E.g: - Object detection, Image recognition, Chatbot, Chatgpt."
   ]
  },
  {
   "cell_type": "markdown",
   "id": "69088fd7-e61b-47d2-a135-94900e986e01",
   "metadata": {},
   "source": [
    "Q2- What is supervised learning? List some examples of supervised learning?\n"
   ]
  },
  {
   "cell_type": "markdown",
   "id": "e4a50a89-a69a-4cbb-8127-4ba385d4d93a",
   "metadata": {},
   "source": [
    "Supervised ML :\n",
    "\n",
    "1. Classification \n",
    "2. Regression\n",
    "\n",
    "Dataset  - Specific Output - Model - Output.\n",
    "\n",
    "Entire model is trained to predict the output.\n",
    "\n",
    "It will be trained with some input data and output data, later on when we give input data it will predict the output.\n",
    "\n",
    "E.g students score card pass/fail based on study hours and play hours."
   ]
  },
  {
   "cell_type": "markdown",
   "id": "d4f35067-4ab3-4fe8-ae35-875fbc00a132",
   "metadata": {},
   "source": [
    "Q3- What is unsupervised learning? List some examples of unsupervised learning?\n"
   ]
  },
  {
   "cell_type": "markdown",
   "id": "dd170d3c-06b2-4038-8f0a-148814d1b759",
   "metadata": {},
   "source": [
    "In this just we have a dataset we need to form clusters or similar groups.\n",
    "\n",
    "E.g: - Customer Segmentation.\n",
    "Product - Clusters \n",
    "\n",
    "Target the audience and based on that i can give discount 20%\n",
    "\n",
    "No output we create clusters. \n",
    "\n",
    "It takes the data and then which cluster this data belongs to or which group this data belongs to and then we can apply supervised learning"
   ]
  },
  {
   "cell_type": "markdown",
   "id": "29e5be49-6b21-462c-a791-22aaa7e2dd64",
   "metadata": {},
   "source": [
    "Q4- What is the difference between AI, ML, DL, and DS?"
   ]
  },
  {
   "cell_type": "markdown",
   "id": "c58b148f-5ce3-4590-a0ff-75f5160b6147",
   "metadata": {},
   "source": [
    "**AI :-** Smart Applications that can perform its own task without any human intervention\n",
    "\n",
    "E.g: - Self Driving Car, Robots.\n",
    "\n",
    "**Machine Learning: -** It provides stats tool to learn analyze, visualize and develop predictive models from the data.\n",
    "\n",
    "E.g : - Amazon, Netflix  ——  Recommendation System\n",
    "\n",
    "Classification Application\n",
    "\n",
    "Regression Application\n",
    "\n",
    "**Deep Learning : -** Mimic human brain (Multi layered neural network)\n",
    "\n",
    "E.g: - Object detection, Image recognition, Chatbot, Chatgpt.\n",
    "\n",
    "**Data Science : -** All the above three,"
   ]
  },
  {
   "cell_type": "markdown",
   "id": "3e02b296-b325-42c5-866b-d1e35f91a6be",
   "metadata": {},
   "source": [
    "Q5- What are the main differences between supervised, unsupervised, and semi-supervised learning?"
   ]
  },
  {
   "cell_type": "markdown",
   "id": "49d68081-2ac2-4e36-9935-b1e5062e70f5",
   "metadata": {},
   "source": [
    "Supervised - Entire model is trained to predict\n",
    "Unsupervised - In this just we have a dataset we need to form clusters or similar groups.\n",
    "Semi supervised : - Combination of Supervised + Unsupervised"
   ]
  },
  {
   "cell_type": "markdown",
   "id": "1f0cdf93-61a4-4363-9f5b-7215b3f170c9",
   "metadata": {},
   "source": [
    "Q6- What is train, test and validation split? Explain the importance of each term."
   ]
  },
  {
   "cell_type": "markdown",
   "id": "2128b7b5-df71-4464-92c8-38a47603a7b3",
   "metadata": {},
   "source": [
    "Train data - We will train the model\n",
    "\n",
    "Validation - Hyperparamter tuning of the data to get more accuracy\n",
    "\n",
    "Test Data - Test the model accuracy"
   ]
  },
  {
   "cell_type": "markdown",
   "id": "ede98d00-d1df-4c87-a9e9-82caa5949d00",
   "metadata": {},
   "source": [
    "Q7- How can unsupervised learning be usedd in anomaly detection?"
   ]
  },
  {
   "cell_type": "markdown",
   "id": "f8544c35-931e-4245-85e7-d3707b842ddd",
   "metadata": {},
   "source": [
    "Unsupervised learning is particularly useful in anomaly detection because it doesn't require labeled data with predefined categories"
   ]
  },
  {
   "cell_type": "markdown",
   "id": "42bdeb0d-fa49-4b1d-b215-38104aaca291",
   "metadata": {},
   "source": [
    "Q8- List down some commonly used supervised learning algorithms and unsupervised learning \n",
    "algorithms?"
   ]
  },
  {
   "cell_type": "code",
   "execution_count": null,
   "id": "96a7e087-4be7-4503-a4e4-0a2cdd3f4329",
   "metadata": {},
   "outputs": [],
   "source": [
    "Ans. "
   ]
  }
 ],
 "metadata": {
  "kernelspec": {
   "display_name": "Python 3 (ipykernel)",
   "language": "python",
   "name": "python3"
  },
  "language_info": {
   "codemirror_mode": {
    "name": "ipython",
    "version": 3
   },
   "file_extension": ".py",
   "mimetype": "text/x-python",
   "name": "python",
   "nbconvert_exporter": "python",
   "pygments_lexer": "ipython3",
   "version": "3.10.8"
  }
 },
 "nbformat": 4,
 "nbformat_minor": 5
}
